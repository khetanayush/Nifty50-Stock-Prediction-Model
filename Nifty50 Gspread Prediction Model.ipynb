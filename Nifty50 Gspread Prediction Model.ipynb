{
 "cells": [
  {
   "cell_type": "code",
   "execution_count": 2,
   "id": "96f6956d",
   "metadata": {
    "id": "96f6956d"
   },
   "outputs": [],
   "source": [
    "import numpy as np\n",
    "import pandas as pd\n",
    "import seaborn as sns\n",
    "import matplotlib.pyplot as plt\n",
    "from sklearn.preprocessing import MinMaxScaler\n",
    "import numpy\n",
    "import tensorflow as tfl\n",
    "from tensorflow.keras.models import Sequential\n",
    "from tensorflow.keras.layers import Dense\n",
    "from tensorflow.keras.layers import LSTM\n",
    "import json"
   ]
  },
  {
   "cell_type": "code",
   "execution_count": 3,
   "id": "e9defc19",
   "metadata": {},
   "outputs": [],
   "source": [
    "df = pd.read_csv('stock_nifty50.csv')"
   ]
  },
  {
   "cell_type": "markdown",
   "id": "349c3589",
   "metadata": {
    "id": "349c3589"
   },
   "source": [
    "# GSPREAD connect model to google sheets"
   ]
  },
  {
   "cell_type": "code",
   "execution_count": 5,
   "id": "8d5f67b3",
   "metadata": {
    "id": "8d5f67b3"
   },
   "outputs": [],
   "source": [
    "import time\n",
    "import gspread\n",
    "from oauth2client.service_account import ServiceAccountCredentials"
   ]
  },
  {
   "cell_type": "code",
   "execution_count": 6,
   "id": "f48a472f",
   "metadata": {
    "id": "f48a472f"
   },
   "outputs": [],
   "source": [
    "scope = ['https://spreadsheets.google.com/feeds','https://www.googleapis.com/auth/drive']\n",
    "account = ServiceAccountCredentials.from_json_keyfile_name(\"rugged-matrix-378515-f839a205dadb.json\",scope)\n",
    "access = gspread.authorize(account)"
   ]
  },
  {
   "cell_type": "markdown",
   "id": "32d532ba",
   "metadata": {
    "id": "32d532ba"
   },
   "source": [
    "# Dropdown for Stock Price Predictions"
   ]
  },
  {
   "cell_type": "code",
   "execution_count": 15,
   "id": "69190956",
   "metadata": {
    "id": "69190956"
   },
   "outputs": [],
   "source": [
    "#stock=[]\n",
    "#for i in df['Symbol'].unique():\n",
    "#    stock.append({\"userEnteredValue\" : i})"
   ]
  },
  {
   "cell_type": "code",
   "execution_count": 17,
   "id": "b4de30cd",
   "metadata": {
    "id": "b4de30cd"
   },
   "outputs": [],
   "source": [
    "# MAIN SPREADSHEET\n",
    "Project = access.open_by_url('https://docs.google.com/spreadsheets/d/1-JNf_dPkk_RTPF5CGeF8sieuGFzbS3mdten5e0QNlzw/edit#gid=0')"
   ]
  },
  {
   "cell_type": "code",
   "execution_count": null,
   "id": "a4a851ca",
   "metadata": {
    "id": "a4a851ca"
   },
   "outputs": [],
   "source": [
    "# sheetName = \"Sheet1\" # Sheet_Name.\n",
    "# sheetId = Project.worksheet(sheetName).id # Extracting Sheet_ID\n",
    "# body = {\n",
    "#    \"requests\": [\n",
    "#         {\n",
    "#             \"updateCells\": {\n",
    "#                 \"range\": {\n",
    "#                     \"sheetId\": sheetId,\n",
    "#                     \"startRowIndex\": 3,\n",
    "#                     \"endRowIndex\": 4,\n",
    "#                     \"startColumnIndex\": 1,\n",
    "#                     \"endColumnIndex\": 2\n",
    "#                 },\n",
    "#                 \"rows\": [\n",
    "#                     {\n",
    "#                         \"values\": [\n",
    "#                             {\n",
    "#                                 \"dataValidation\": {\n",
    "#                                     \"condition\": {\n",
    "#                                         \"values\": stock,\n",
    "#                                         \"type\": \"ONE_OF_LIST\"\n",
    "#                                     },\n",
    "#                                     \"showCustomUi\": True\n",
    "#                                 }\n",
    "#                             }\n",
    "#                         ]\n",
    "#                     }\n",
    "#                 ],\n",
    "#                 \"fields\": \"dataValidation\"\n",
    "#             }\n",
    "#         }\n",
    "#     ]\n",
    "#  }\n",
    "# Project.batch_update(body)"
   ]
  },
  {
   "cell_type": "code",
   "execution_count": 18,
   "id": "84bf34d2",
   "metadata": {
    "id": "84bf34d2",
    "outputId": "b8ffa74f-6b01-48b8-d72b-6602bcedeb53"
   },
   "outputs": [
    {
     "data": {
      "text/plain": [
       "<Worksheet 'Sheet1' id:0>"
      ]
     },
     "execution_count": 18,
     "metadata": {},
     "output_type": "execute_result"
    }
   ],
   "source": [
    "NSE50 = Project.get_worksheet(0)\n",
    "NSE50"
   ]
  },
  {
   "cell_type": "code",
   "execution_count": 19,
   "id": "b5daed70",
   "metadata": {
    "id": "b5daed70"
   },
   "outputs": [],
   "source": [
    "data = pd.DataFrame(NSE50.get_all_records())"
   ]
  },
  {
   "cell_type": "markdown",
   "id": "c0ac31fa",
   "metadata": {
    "id": "c0ac31fa"
   },
   "source": [
    "# Stock Prediction LSTM Model"
   ]
  },
  {
   "cell_type": "code",
   "execution_count": 29,
   "id": "adf77b31",
   "metadata": {
    "id": "adf77b31"
   },
   "outputs": [],
   "source": [
    "def stockPredictionModel(name_of_stock, number_of_share, start_date, end_date):\n",
    "    df = pd.read_csv('stock_nifty50.csv')\n",
    "    df.head()\n",
    "    df[\"Date\"] = pd.to_datetime(df[\"Date\"])\n",
    "    # name_of_stock = input(\"Enter Name Of Stock\")\n",
    "    # number_of_share = int(input(\"Number Of Share\"))\n",
    "    Y = df[df[\"Symbol\"]==name_of_stock][[\"Close\"]]\n",
    "    # start_date = input(\"Start Date\")\n",
    "    # end_date = input(\"End Date\")\n",
    "    start_date = pd.to_datetime(start_date)\n",
    "    end_date = pd.to_datetime(end_date)\n",
    "\n",
    "\n",
    "\n",
    "    scaler=MinMaxScaler(feature_range=(0,1))\n",
    "    Y=scaler.fit_transform(np.array(Y).reshape(-1,1))\n",
    "\n",
    "\n",
    "\n",
    "    training_size=int(len(Y)*0.65)\n",
    "    test_size=len(Y)-training_size\n",
    "    train_data,test_data=Y[0:training_size,:],Y[training_size:len(Y),:1]\n",
    "\n",
    "\n",
    "    # convert an array of values into a dataset matrix\n",
    "    def create_dataset(dataset, time_step):\n",
    "        dataX, dataY = [], []\n",
    "        for i in range(len(dataset)-time_step-1):\n",
    "            a = dataset[i:(i+time_step), 0]   ###i=0, 0,1,2,3-----99   100 \n",
    "            dataX.append(a)\n",
    "            dataY.append(dataset[i + time_step, 0])\n",
    "        return numpy.array(dataX), numpy.array(dataY)\n",
    "\n",
    "\n",
    "    time_step = 100\n",
    "    X_train, y_train = create_dataset(train_data, time_step)\n",
    "    X_test, ytest = create_dataset(test_data, time_step)\n",
    "\n",
    "\n",
    "    X_train =X_train.reshape(X_train.shape[0],X_train.shape[1] , 1)\n",
    "    X_test = X_test.reshape(X_test.shape[0],X_test.shape[1] , 1)\n",
    "\n",
    "    ### Create the Stacked LSTM model\n",
    "    model=Sequential()\n",
    "    model.add(LSTM(50,return_sequences=True,input_shape=(100,1)))\n",
    "    model.add(LSTM(50,return_sequences=True))\n",
    "    model.add(LSTM(50))\n",
    "    model.add(Dense(1))\n",
    "    model.compile(loss='mean_squared_error',optimizer='adam')\n",
    "    model.fit(X_train,y_train,validation_data=(X_test,ytest),epochs=5,batch_size=64,verbose=1)\n",
    "\n",
    "    last_date = pd.to_datetime(\"2022-12-12\")\n",
    "    lst_output_1=[]\n",
    "    lst_output_2=[]\n",
    "\n",
    "    diff_1 = start_date-last_date\n",
    "    diff_2 = end_date-last_date\n",
    "    if int(diff_1.days)>0:\n",
    "        n_steps=100\n",
    "        x_input=test_data[len(test_data)-n_steps:].reshape(1,-1)\n",
    "        temp_input=list(x_input)\n",
    "        temp_input=temp_input[0].tolist()\n",
    "        i=0\n",
    "        while(i<int(diff_1.days)):\n",
    "            if(len(temp_input)>100):\n",
    "                #print(temp_input)\n",
    "                x_input=np.array(temp_input[1:])\n",
    "    #                 print(\"{} day input {}\".format(i,x_input))\n",
    "                x_input=x_input.reshape(1,-1)\n",
    "                x_input = x_input.reshape((1, n_steps, 1))\n",
    "                #print(x_input)\n",
    "                yhat = model.predict(x_input, verbose=0)\n",
    "    #                 print(\"{} day output {}\".format(i,yhat))\n",
    "                temp_input.extend(yhat[0].tolist())\n",
    "                temp_input=temp_input[1:]\n",
    "                #print(temp_input)\n",
    "                lst_output_1.extend(yhat.tolist())\n",
    "                i=i+1\n",
    "            else:\n",
    "                x_input = x_input.reshape((1, n_steps,1))\n",
    "                yhat = model.predict(x_input, verbose=0)\n",
    "    #                 print(yhat[0])\n",
    "                temp_input.extend(yhat[0].tolist())\n",
    "    #                 print(len(temp_input))\n",
    "                lst_output_1.extend(yhat.tolist())\n",
    "                i=i+1\n",
    "\n",
    "\n",
    "            \n",
    "    if int(diff_2.days)>0:\n",
    "        n_steps=100\n",
    "        x_input=test_data[len(test_data)-n_steps:].reshape(1,-1)\n",
    "        temp_input=list(x_input)\n",
    "        temp_input=temp_input[0].tolist()\n",
    "        i=0\n",
    "        while(i<int(diff_2.days)):\n",
    "            if(len(temp_input)>100):\n",
    "                #print(temp_input)\n",
    "                x_input=np.array(temp_input[1:])\n",
    "    #                 print(\"{} day input {}\".format(i,x_input))\n",
    "                x_input=x_input.reshape(1,-1)\n",
    "                x_input = x_input.reshape((1, n_steps, 1))\n",
    "                #print(x_input)\n",
    "                yhat = model.predict(x_input, verbose=0)\n",
    "    #                 print(\"{} day output {}\".format(i,yhat))\n",
    "                temp_input.extend(yhat[0].tolist())\n",
    "                temp_input=temp_input[1:]\n",
    "                #print(temp_input)\n",
    "                lst_output_2.extend(yhat.tolist())\n",
    "                i=i+1\n",
    "            else:\n",
    "                x_input = x_input.reshape((1, n_steps,1))\n",
    "                yhat = model.predict(x_input, verbose=0)\n",
    "    #                 print(yhat[0])\n",
    "                temp_input.extend(yhat[0].tolist())\n",
    "    #                 print(len(temp_input))\n",
    "                lst_output_2.extend(yhat.tolist())\n",
    "                i=i+1\n",
    "    if int(diff_2.days)>0 and int(diff_1.days)>0:     \n",
    "      invests = scaler.inverse_transform(lst_output_1)[-1]\n",
    "      returns = scaler.inverse_transform(lst_output_2)[-1]\n",
    "      Final_Amount = ((returns-invests)*(int(number_of_share)))\n",
    "    elif int(diff_2.days)>0 and int(diff_1.days)<0: \n",
    "      invests = (df[(df['Symbol'] == name_of_stock) & (df['Date'] == start_date)]['Close'].values[0]).reshape(1,-1)\n",
    "      invests= invests[-1] * (int(number_of_share))\n",
    "      returns = (scaler.inverse_transform(lst_output_2)[-1])* (int(number_of_share))\n",
    "      Final_Amount = (returns-invests)\n",
    "    else:\n",
    "      invests = (df[(df['Symbol'] == name_of_stock) & (df['Date'] == start_date)]['Close'].values[0]).reshape(1,-1)\n",
    "      invests= invests[-1] * (int(number_of_share))\n",
    "      returns = (df[(df['Symbol'] == name_of_stock) & (df['Date'] == end_date)]['Close'].values[0]).reshape(1,-1)\n",
    "      returns= returns[-1] * (int(number_of_share))\n",
    "      \n",
    "      Final_Amount = (returns-invests)\n",
    "\n",
    "\n",
    "    # In[2]:\n",
    "\n",
    "    if Final_Amount[0]>0:\n",
    "        print(\"Profit: \" ,Final_Amount[0])\n",
    "        NSE50.update('B9', Final_Amount[0])\n",
    "        return Final_Amount[0]\n",
    "    else:\n",
    "        print(\"Loss: \" ,Final_Amount[0])\n",
    "        NSE50.update('B9', Final_Amount[0])\n",
    "        return Final_Amount[0]"
   ]
  },
  {
   "cell_type": "code",
   "execution_count": 30,
   "id": "395e2414",
   "metadata": {
    "id": "395e2414",
    "outputId": "943b07bb-6ab6-43e4-d88f-095d140ab1cf"
   },
   "outputs": [
    {
     "name": "stdout",
     "output_type": "stream",
     "text": [
      "Epoch 1/5\n",
      "9/9 [==============================] - 10s 315ms/step - loss: 0.0069 - val_loss: 0.0080\n",
      "Epoch 2/5\n",
      "9/9 [==============================] - 1s 150ms/step - loss: 0.0011 - val_loss: 0.0028\n",
      "Epoch 3/5\n",
      "9/9 [==============================] - 1s 157ms/step - loss: 6.3819e-04 - val_loss: 0.0034\n",
      "Epoch 4/5\n",
      "9/9 [==============================] - 1s 160ms/step - loss: 3.4548e-04 - val_loss: 0.0032\n",
      "Epoch 5/5\n",
      "9/9 [==============================] - 2s 181ms/step - loss: 2.7106e-04 - val_loss: 0.0050\n",
      "Loss:  -190.86932498216356\n"
     ]
    },
    {
     "data": {
      "text/plain": [
       "-190.86932498216356"
      ]
     },
     "execution_count": 30,
     "metadata": {},
     "output_type": "execute_result"
    }
   ],
   "source": [
    "stockPredictionModel('ADANIENT',30,'2023-10-1', '2023-12-12')"
   ]
  },
  {
   "cell_type": "code",
   "execution_count": 32,
   "id": "06d0d785",
   "metadata": {
    "id": "06d0d785",
    "outputId": "93878112-3a40-48ad-88ad-88e54cef4251"
   },
   "outputs": [
    {
     "name": "stdout",
     "output_type": "stream",
     "text": [
      "Epoch 1/5\n",
      "9/9 [==============================] - 11s 453ms/step - loss: 0.0407 - val_loss: 0.0157\n",
      "Epoch 2/5\n",
      "9/9 [==============================] - 2s 221ms/step - loss: 0.0085 - val_loss: 0.0156\n",
      "Epoch 3/5\n",
      "9/9 [==============================] - 2s 230ms/step - loss: 0.0040 - val_loss: 0.0049\n",
      "Epoch 4/5\n",
      "9/9 [==============================] - 2s 220ms/step - loss: 0.0017 - val_loss: 0.0063\n",
      "Epoch 5/5\n",
      "9/9 [==============================] - 2s 215ms/step - loss: 0.0014 - val_loss: 0.0046\n",
      "Profit:  4884.0\n"
     ]
    },
    {
     "data": {
      "text/plain": [
       "4884.0"
      ]
     },
     "execution_count": 32,
     "metadata": {},
     "output_type": "execute_result"
    }
   ],
   "source": [
    "stockPredictionModel('WIPRO', 30,'2020-2-25', '2022-11-30')"
   ]
  },
  {
   "cell_type": "code",
   "execution_count": 31,
   "id": "99f858fc",
   "metadata": {
    "id": "99f858fc",
    "outputId": "6ae624f0-7eb2-4a80-cd97-54eba8bed2df"
   },
   "outputs": [
    {
     "name": "stdout",
     "output_type": "stream",
     "text": [
      "Epoch 1/5\n",
      "9/9 [==============================] - 10s 358ms/step - loss: 0.0497 - val_loss: 0.0068\n",
      "Epoch 2/5\n",
      "9/9 [==============================] - 1s 168ms/step - loss: 0.0096 - val_loss: 0.0138\n",
      "Epoch 3/5\n",
      "9/9 [==============================] - 2s 176ms/step - loss: 0.0040 - val_loss: 0.0041\n",
      "Epoch 4/5\n",
      "9/9 [==============================] - 2s 170ms/step - loss: 0.0023 - val_loss: 0.0098\n",
      "Epoch 5/5\n",
      "9/9 [==============================] - 2s 168ms/step - loss: 0.0016 - val_loss: 0.0045\n",
      "Loss:  -6731.636626878754\n"
     ]
    },
    {
     "data": {
      "text/plain": [
       "-6731.636626878754"
      ]
     },
     "execution_count": 31,
     "metadata": {},
     "output_type": "execute_result"
    }
   ],
   "source": [
    "stockPredictionModel('WIPRO', 30,'2023-1-31', '2025-12-12')"
   ]
  },
  {
   "cell_type": "markdown",
   "id": "a8a1b4f8",
   "metadata": {
    "id": "a8a1b4f8"
   },
   "source": [
    "# Stock Price Prediction"
   ]
  },
  {
   "cell_type": "code",
   "execution_count": 33,
   "id": "6a922760",
   "metadata": {
    "id": "6a922760",
    "outputId": "4303c060-6b91-4c0b-8cb8-c3e13f04d6aa"
   },
   "outputs": [
    {
     "name": "stdout",
     "output_type": "stream",
     "text": [
      "Epoch 1/5\n",
      "9/9 [==============================] - 12s 419ms/step - loss: 0.0453 - val_loss: 0.0402\n",
      "Epoch 2/5\n",
      "9/9 [==============================] - 2s 230ms/step - loss: 0.0071 - val_loss: 0.0542\n",
      "Epoch 3/5\n",
      "9/9 [==============================] - 2s 230ms/step - loss: 0.0043 - val_loss: 0.0369\n",
      "Epoch 4/5\n",
      "9/9 [==============================] - 2s 233ms/step - loss: 0.0039 - val_loss: 0.0420\n",
      "Epoch 5/5\n",
      "9/9 [==============================] - 2s 226ms/step - loss: 0.0030 - val_loss: 0.0321\n",
      "Loss:  -341000.8702656626\n",
      "Epoch 1/5\n",
      "9/9 [==============================] - 12s 507ms/step - loss: 0.0517 - val_loss: 0.0385\n",
      "Epoch 2/5\n",
      "9/9 [==============================] - 2s 219ms/step - loss: 0.0083 - val_loss: 0.0470\n",
      "Epoch 3/5\n",
      "9/9 [==============================] - 2s 220ms/step - loss: 0.0046 - val_loss: 0.0370\n",
      "Epoch 4/5\n",
      "9/9 [==============================] - 2s 210ms/step - loss: 0.0035 - val_loss: 0.0382\n",
      "Epoch 5/5\n",
      "9/9 [==============================] - 2s 211ms/step - loss: 0.0029 - val_loss: 0.0325\n",
      "Loss:  -135779.1544715315\n",
      "Epoch 1/5\n",
      "9/9 [==============================] - 11s 457ms/step - loss: 0.1177 - val_loss: 0.0328\n",
      "Epoch 2/5\n",
      "9/9 [==============================] - 2s 219ms/step - loss: 0.0208 - val_loss: 0.0052\n",
      "Epoch 3/5\n",
      "1/9 [==>...........................] - ETA: 1s - loss: 0.0203"
     ]
    },
    {
     "ename": "KeyboardInterrupt",
     "evalue": "",
     "output_type": "error",
     "traceback": [
      "\u001b[1;31m---------------------------------------------------------------------------\u001b[0m",
      "\u001b[1;31mKeyboardInterrupt\u001b[0m                         Traceback (most recent call last)",
      "Input \u001b[1;32mIn [33]\u001b[0m, in \u001b[0;36m<cell line: 2>\u001b[1;34m()\u001b[0m\n\u001b[0;32m      4\u001b[0m start_date \u001b[38;5;241m=\u001b[39m NSE50\u001b[38;5;241m.\u001b[39macell(\u001b[38;5;124m'\u001b[39m\u001b[38;5;124mB6\u001b[39m\u001b[38;5;124m'\u001b[39m)\u001b[38;5;241m.\u001b[39mvalue\n\u001b[0;32m      5\u001b[0m end_date \u001b[38;5;241m=\u001b[39m NSE50\u001b[38;5;241m.\u001b[39macell(\u001b[38;5;124m'\u001b[39m\u001b[38;5;124mB7\u001b[39m\u001b[38;5;124m'\u001b[39m)\u001b[38;5;241m.\u001b[39mvalue\n\u001b[1;32m----> 7\u001b[0m \u001b[43mstockPredictionModel\u001b[49m\u001b[43m(\u001b[49m\u001b[43mname_of_stock\u001b[49m\u001b[43m,\u001b[49m\u001b[43m \u001b[49m\u001b[43mnumber_of_share\u001b[49m\u001b[43m,\u001b[49m\u001b[43m \u001b[49m\u001b[43mstart_date\u001b[49m\u001b[43m,\u001b[49m\u001b[43m \u001b[49m\u001b[43mend_date\u001b[49m\u001b[43m)\u001b[49m\n\u001b[0;32m      8\u001b[0m time\u001b[38;5;241m.\u001b[39msleep(\u001b[38;5;241m5\u001b[39m)\n",
      "Input \u001b[1;32mIn [29]\u001b[0m, in \u001b[0;36mstockPredictionModel\u001b[1;34m(name_of_stock, number_of_share, start_date, end_date)\u001b[0m\n\u001b[0;32m     48\u001b[0m model\u001b[38;5;241m.\u001b[39madd(Dense(\u001b[38;5;241m1\u001b[39m))\n\u001b[0;32m     49\u001b[0m model\u001b[38;5;241m.\u001b[39mcompile(loss\u001b[38;5;241m=\u001b[39m\u001b[38;5;124m'\u001b[39m\u001b[38;5;124mmean_squared_error\u001b[39m\u001b[38;5;124m'\u001b[39m,optimizer\u001b[38;5;241m=\u001b[39m\u001b[38;5;124m'\u001b[39m\u001b[38;5;124madam\u001b[39m\u001b[38;5;124m'\u001b[39m)\n\u001b[1;32m---> 50\u001b[0m \u001b[43mmodel\u001b[49m\u001b[38;5;241;43m.\u001b[39;49m\u001b[43mfit\u001b[49m\u001b[43m(\u001b[49m\u001b[43mX_train\u001b[49m\u001b[43m,\u001b[49m\u001b[43my_train\u001b[49m\u001b[43m,\u001b[49m\u001b[43mvalidation_data\u001b[49m\u001b[38;5;241;43m=\u001b[39;49m\u001b[43m(\u001b[49m\u001b[43mX_test\u001b[49m\u001b[43m,\u001b[49m\u001b[43mytest\u001b[49m\u001b[43m)\u001b[49m\u001b[43m,\u001b[49m\u001b[43mepochs\u001b[49m\u001b[38;5;241;43m=\u001b[39;49m\u001b[38;5;241;43m5\u001b[39;49m\u001b[43m,\u001b[49m\u001b[43mbatch_size\u001b[49m\u001b[38;5;241;43m=\u001b[39;49m\u001b[38;5;241;43m64\u001b[39;49m\u001b[43m,\u001b[49m\u001b[43mverbose\u001b[49m\u001b[38;5;241;43m=\u001b[39;49m\u001b[38;5;241;43m1\u001b[39;49m\u001b[43m)\u001b[49m\n\u001b[0;32m     52\u001b[0m last_date \u001b[38;5;241m=\u001b[39m pd\u001b[38;5;241m.\u001b[39mto_datetime(\u001b[38;5;124m\"\u001b[39m\u001b[38;5;124m2022-12-12\u001b[39m\u001b[38;5;124m\"\u001b[39m)\n\u001b[0;32m     53\u001b[0m lst_output_1\u001b[38;5;241m=\u001b[39m[]\n",
      "File \u001b[1;32m~\\anaconda3\\lib\\site-packages\\keras\\utils\\traceback_utils.py:65\u001b[0m, in \u001b[0;36mfilter_traceback.<locals>.error_handler\u001b[1;34m(*args, **kwargs)\u001b[0m\n\u001b[0;32m     63\u001b[0m filtered_tb \u001b[38;5;241m=\u001b[39m \u001b[38;5;28;01mNone\u001b[39;00m\n\u001b[0;32m     64\u001b[0m \u001b[38;5;28;01mtry\u001b[39;00m:\n\u001b[1;32m---> 65\u001b[0m     \u001b[38;5;28;01mreturn\u001b[39;00m fn(\u001b[38;5;241m*\u001b[39margs, \u001b[38;5;241m*\u001b[39m\u001b[38;5;241m*\u001b[39mkwargs)\n\u001b[0;32m     66\u001b[0m \u001b[38;5;28;01mexcept\u001b[39;00m \u001b[38;5;167;01mException\u001b[39;00m \u001b[38;5;28;01mas\u001b[39;00m e:\n\u001b[0;32m     67\u001b[0m     filtered_tb \u001b[38;5;241m=\u001b[39m _process_traceback_frames(e\u001b[38;5;241m.\u001b[39m__traceback__)\n",
      "File \u001b[1;32m~\\anaconda3\\lib\\site-packages\\keras\\engine\\training.py:1650\u001b[0m, in \u001b[0;36mModel.fit\u001b[1;34m(self, x, y, batch_size, epochs, verbose, callbacks, validation_split, validation_data, shuffle, class_weight, sample_weight, initial_epoch, steps_per_epoch, validation_steps, validation_batch_size, validation_freq, max_queue_size, workers, use_multiprocessing)\u001b[0m\n\u001b[0;32m   1642\u001b[0m \u001b[38;5;28;01mwith\u001b[39;00m tf\u001b[38;5;241m.\u001b[39mprofiler\u001b[38;5;241m.\u001b[39mexperimental\u001b[38;5;241m.\u001b[39mTrace(\n\u001b[0;32m   1643\u001b[0m     \u001b[38;5;124m\"\u001b[39m\u001b[38;5;124mtrain\u001b[39m\u001b[38;5;124m\"\u001b[39m,\n\u001b[0;32m   1644\u001b[0m     epoch_num\u001b[38;5;241m=\u001b[39mepoch,\n\u001b[1;32m   (...)\u001b[0m\n\u001b[0;32m   1647\u001b[0m     _r\u001b[38;5;241m=\u001b[39m\u001b[38;5;241m1\u001b[39m,\n\u001b[0;32m   1648\u001b[0m ):\n\u001b[0;32m   1649\u001b[0m     callbacks\u001b[38;5;241m.\u001b[39mon_train_batch_begin(step)\n\u001b[1;32m-> 1650\u001b[0m     tmp_logs \u001b[38;5;241m=\u001b[39m \u001b[38;5;28;43mself\u001b[39;49m\u001b[38;5;241;43m.\u001b[39;49m\u001b[43mtrain_function\u001b[49m\u001b[43m(\u001b[49m\u001b[43miterator\u001b[49m\u001b[43m)\u001b[49m\n\u001b[0;32m   1651\u001b[0m     \u001b[38;5;28;01mif\u001b[39;00m data_handler\u001b[38;5;241m.\u001b[39mshould_sync:\n\u001b[0;32m   1652\u001b[0m         context\u001b[38;5;241m.\u001b[39masync_wait()\n",
      "File \u001b[1;32m~\\anaconda3\\lib\\site-packages\\tensorflow\\python\\util\\traceback_utils.py:150\u001b[0m, in \u001b[0;36mfilter_traceback.<locals>.error_handler\u001b[1;34m(*args, **kwargs)\u001b[0m\n\u001b[0;32m    148\u001b[0m filtered_tb \u001b[38;5;241m=\u001b[39m \u001b[38;5;28;01mNone\u001b[39;00m\n\u001b[0;32m    149\u001b[0m \u001b[38;5;28;01mtry\u001b[39;00m:\n\u001b[1;32m--> 150\u001b[0m   \u001b[38;5;28;01mreturn\u001b[39;00m fn(\u001b[38;5;241m*\u001b[39margs, \u001b[38;5;241m*\u001b[39m\u001b[38;5;241m*\u001b[39mkwargs)\n\u001b[0;32m    151\u001b[0m \u001b[38;5;28;01mexcept\u001b[39;00m \u001b[38;5;167;01mException\u001b[39;00m \u001b[38;5;28;01mas\u001b[39;00m e:\n\u001b[0;32m    152\u001b[0m   filtered_tb \u001b[38;5;241m=\u001b[39m _process_traceback_frames(e\u001b[38;5;241m.\u001b[39m__traceback__)\n",
      "File \u001b[1;32m~\\anaconda3\\lib\\site-packages\\tensorflow\\python\\eager\\polymorphic_function\\polymorphic_function.py:880\u001b[0m, in \u001b[0;36mFunction.__call__\u001b[1;34m(self, *args, **kwds)\u001b[0m\n\u001b[0;32m    877\u001b[0m compiler \u001b[38;5;241m=\u001b[39m \u001b[38;5;124m\"\u001b[39m\u001b[38;5;124mxla\u001b[39m\u001b[38;5;124m\"\u001b[39m \u001b[38;5;28;01mif\u001b[39;00m \u001b[38;5;28mself\u001b[39m\u001b[38;5;241m.\u001b[39m_jit_compile \u001b[38;5;28;01melse\u001b[39;00m \u001b[38;5;124m\"\u001b[39m\u001b[38;5;124mnonXla\u001b[39m\u001b[38;5;124m\"\u001b[39m\n\u001b[0;32m    879\u001b[0m \u001b[38;5;28;01mwith\u001b[39;00m OptionalXlaContext(\u001b[38;5;28mself\u001b[39m\u001b[38;5;241m.\u001b[39m_jit_compile):\n\u001b[1;32m--> 880\u001b[0m   result \u001b[38;5;241m=\u001b[39m \u001b[38;5;28mself\u001b[39m\u001b[38;5;241m.\u001b[39m_call(\u001b[38;5;241m*\u001b[39margs, \u001b[38;5;241m*\u001b[39m\u001b[38;5;241m*\u001b[39mkwds)\n\u001b[0;32m    882\u001b[0m new_tracing_count \u001b[38;5;241m=\u001b[39m \u001b[38;5;28mself\u001b[39m\u001b[38;5;241m.\u001b[39mexperimental_get_tracing_count()\n\u001b[0;32m    883\u001b[0m without_tracing \u001b[38;5;241m=\u001b[39m (tracing_count \u001b[38;5;241m==\u001b[39m new_tracing_count)\n",
      "File \u001b[1;32m~\\anaconda3\\lib\\site-packages\\tensorflow\\python\\eager\\polymorphic_function\\polymorphic_function.py:912\u001b[0m, in \u001b[0;36mFunction._call\u001b[1;34m(self, *args, **kwds)\u001b[0m\n\u001b[0;32m    909\u001b[0m   \u001b[38;5;28mself\u001b[39m\u001b[38;5;241m.\u001b[39m_lock\u001b[38;5;241m.\u001b[39mrelease()\n\u001b[0;32m    910\u001b[0m   \u001b[38;5;66;03m# In this case we have created variables on the first call, so we run the\u001b[39;00m\n\u001b[0;32m    911\u001b[0m   \u001b[38;5;66;03m# defunned version which is guaranteed to never create variables.\u001b[39;00m\n\u001b[1;32m--> 912\u001b[0m   \u001b[38;5;28;01mreturn\u001b[39;00m \u001b[38;5;28mself\u001b[39m\u001b[38;5;241m.\u001b[39m_no_variable_creation_fn(\u001b[38;5;241m*\u001b[39margs, \u001b[38;5;241m*\u001b[39m\u001b[38;5;241m*\u001b[39mkwds)  \u001b[38;5;66;03m# pylint: disable=not-callable\u001b[39;00m\n\u001b[0;32m    913\u001b[0m \u001b[38;5;28;01melif\u001b[39;00m \u001b[38;5;28mself\u001b[39m\u001b[38;5;241m.\u001b[39m_variable_creation_fn \u001b[38;5;129;01mis\u001b[39;00m \u001b[38;5;129;01mnot\u001b[39;00m \u001b[38;5;28;01mNone\u001b[39;00m:\n\u001b[0;32m    914\u001b[0m   \u001b[38;5;66;03m# Release the lock early so that multiple threads can perform the call\u001b[39;00m\n\u001b[0;32m    915\u001b[0m   \u001b[38;5;66;03m# in parallel.\u001b[39;00m\n\u001b[0;32m    916\u001b[0m   \u001b[38;5;28mself\u001b[39m\u001b[38;5;241m.\u001b[39m_lock\u001b[38;5;241m.\u001b[39mrelease()\n",
      "File \u001b[1;32m~\\anaconda3\\lib\\site-packages\\tensorflow\\python\\eager\\polymorphic_function\\tracing_compiler.py:134\u001b[0m, in \u001b[0;36mTracingCompiler.__call__\u001b[1;34m(self, *args, **kwargs)\u001b[0m\n\u001b[0;32m    131\u001b[0m \u001b[38;5;28;01mwith\u001b[39;00m \u001b[38;5;28mself\u001b[39m\u001b[38;5;241m.\u001b[39m_lock:\n\u001b[0;32m    132\u001b[0m   (concrete_function,\n\u001b[0;32m    133\u001b[0m    filtered_flat_args) \u001b[38;5;241m=\u001b[39m \u001b[38;5;28mself\u001b[39m\u001b[38;5;241m.\u001b[39m_maybe_define_function(args, kwargs)\n\u001b[1;32m--> 134\u001b[0m \u001b[38;5;28;01mreturn\u001b[39;00m \u001b[43mconcrete_function\u001b[49m\u001b[38;5;241;43m.\u001b[39;49m\u001b[43m_call_flat\u001b[49m\u001b[43m(\u001b[49m\n\u001b[0;32m    135\u001b[0m \u001b[43m    \u001b[49m\u001b[43mfiltered_flat_args\u001b[49m\u001b[43m,\u001b[49m\u001b[43m \u001b[49m\u001b[43mcaptured_inputs\u001b[49m\u001b[38;5;241;43m=\u001b[39;49m\u001b[43mconcrete_function\u001b[49m\u001b[38;5;241;43m.\u001b[39;49m\u001b[43mcaptured_inputs\u001b[49m\u001b[43m)\u001b[49m\n",
      "File \u001b[1;32m~\\anaconda3\\lib\\site-packages\\tensorflow\\python\\eager\\polymorphic_function\\monomorphic_function.py:1745\u001b[0m, in \u001b[0;36mConcreteFunction._call_flat\u001b[1;34m(self, args, captured_inputs, cancellation_manager)\u001b[0m\n\u001b[0;32m   1741\u001b[0m possible_gradient_type \u001b[38;5;241m=\u001b[39m gradients_util\u001b[38;5;241m.\u001b[39mPossibleTapeGradientTypes(args)\n\u001b[0;32m   1742\u001b[0m \u001b[38;5;28;01mif\u001b[39;00m (possible_gradient_type \u001b[38;5;241m==\u001b[39m gradients_util\u001b[38;5;241m.\u001b[39mPOSSIBLE_GRADIENT_TYPES_NONE\n\u001b[0;32m   1743\u001b[0m     \u001b[38;5;129;01mand\u001b[39;00m executing_eagerly):\n\u001b[0;32m   1744\u001b[0m   \u001b[38;5;66;03m# No tape is watching; skip to running the function.\u001b[39;00m\n\u001b[1;32m-> 1745\u001b[0m   \u001b[38;5;28;01mreturn\u001b[39;00m \u001b[38;5;28mself\u001b[39m\u001b[38;5;241m.\u001b[39m_build_call_outputs(\u001b[38;5;28;43mself\u001b[39;49m\u001b[38;5;241;43m.\u001b[39;49m\u001b[43m_inference_function\u001b[49m\u001b[38;5;241;43m.\u001b[39;49m\u001b[43mcall\u001b[49m\u001b[43m(\u001b[49m\n\u001b[0;32m   1746\u001b[0m \u001b[43m      \u001b[49m\u001b[43mctx\u001b[49m\u001b[43m,\u001b[49m\u001b[43m \u001b[49m\u001b[43margs\u001b[49m\u001b[43m,\u001b[49m\u001b[43m \u001b[49m\u001b[43mcancellation_manager\u001b[49m\u001b[38;5;241;43m=\u001b[39;49m\u001b[43mcancellation_manager\u001b[49m\u001b[43m)\u001b[49m)\n\u001b[0;32m   1747\u001b[0m forward_backward \u001b[38;5;241m=\u001b[39m \u001b[38;5;28mself\u001b[39m\u001b[38;5;241m.\u001b[39m_select_forward_and_backward_functions(\n\u001b[0;32m   1748\u001b[0m     args,\n\u001b[0;32m   1749\u001b[0m     possible_gradient_type,\n\u001b[0;32m   1750\u001b[0m     executing_eagerly)\n\u001b[0;32m   1751\u001b[0m forward_function, args_with_tangents \u001b[38;5;241m=\u001b[39m forward_backward\u001b[38;5;241m.\u001b[39mforward()\n",
      "File \u001b[1;32m~\\anaconda3\\lib\\site-packages\\tensorflow\\python\\eager\\polymorphic_function\\monomorphic_function.py:378\u001b[0m, in \u001b[0;36m_EagerDefinedFunction.call\u001b[1;34m(self, ctx, args, cancellation_manager)\u001b[0m\n\u001b[0;32m    376\u001b[0m \u001b[38;5;28;01mwith\u001b[39;00m _InterpolateFunctionError(\u001b[38;5;28mself\u001b[39m):\n\u001b[0;32m    377\u001b[0m   \u001b[38;5;28;01mif\u001b[39;00m cancellation_manager \u001b[38;5;129;01mis\u001b[39;00m \u001b[38;5;28;01mNone\u001b[39;00m:\n\u001b[1;32m--> 378\u001b[0m     outputs \u001b[38;5;241m=\u001b[39m \u001b[43mexecute\u001b[49m\u001b[38;5;241;43m.\u001b[39;49m\u001b[43mexecute\u001b[49m\u001b[43m(\u001b[49m\n\u001b[0;32m    379\u001b[0m \u001b[43m        \u001b[49m\u001b[38;5;28;43mstr\u001b[39;49m\u001b[43m(\u001b[49m\u001b[38;5;28;43mself\u001b[39;49m\u001b[38;5;241;43m.\u001b[39;49m\u001b[43msignature\u001b[49m\u001b[38;5;241;43m.\u001b[39;49m\u001b[43mname\u001b[49m\u001b[43m)\u001b[49m\u001b[43m,\u001b[49m\n\u001b[0;32m    380\u001b[0m \u001b[43m        \u001b[49m\u001b[43mnum_outputs\u001b[49m\u001b[38;5;241;43m=\u001b[39;49m\u001b[38;5;28;43mself\u001b[39;49m\u001b[38;5;241;43m.\u001b[39;49m\u001b[43m_num_outputs\u001b[49m\u001b[43m,\u001b[49m\n\u001b[0;32m    381\u001b[0m \u001b[43m        \u001b[49m\u001b[43minputs\u001b[49m\u001b[38;5;241;43m=\u001b[39;49m\u001b[43margs\u001b[49m\u001b[43m,\u001b[49m\n\u001b[0;32m    382\u001b[0m \u001b[43m        \u001b[49m\u001b[43mattrs\u001b[49m\u001b[38;5;241;43m=\u001b[39;49m\u001b[43mattrs\u001b[49m\u001b[43m,\u001b[49m\n\u001b[0;32m    383\u001b[0m \u001b[43m        \u001b[49m\u001b[43mctx\u001b[49m\u001b[38;5;241;43m=\u001b[39;49m\u001b[43mctx\u001b[49m\u001b[43m)\u001b[49m\n\u001b[0;32m    384\u001b[0m   \u001b[38;5;28;01melse\u001b[39;00m:\n\u001b[0;32m    385\u001b[0m     outputs \u001b[38;5;241m=\u001b[39m execute\u001b[38;5;241m.\u001b[39mexecute_with_cancellation(\n\u001b[0;32m    386\u001b[0m         \u001b[38;5;28mstr\u001b[39m(\u001b[38;5;28mself\u001b[39m\u001b[38;5;241m.\u001b[39msignature\u001b[38;5;241m.\u001b[39mname),\n\u001b[0;32m    387\u001b[0m         num_outputs\u001b[38;5;241m=\u001b[39m\u001b[38;5;28mself\u001b[39m\u001b[38;5;241m.\u001b[39m_num_outputs,\n\u001b[1;32m   (...)\u001b[0m\n\u001b[0;32m    390\u001b[0m         ctx\u001b[38;5;241m=\u001b[39mctx,\n\u001b[0;32m    391\u001b[0m         cancellation_manager\u001b[38;5;241m=\u001b[39mcancellation_manager)\n",
      "File \u001b[1;32m~\\anaconda3\\lib\\site-packages\\tensorflow\\python\\eager\\execute.py:52\u001b[0m, in \u001b[0;36mquick_execute\u001b[1;34m(op_name, num_outputs, inputs, attrs, ctx, name)\u001b[0m\n\u001b[0;32m     50\u001b[0m \u001b[38;5;28;01mtry\u001b[39;00m:\n\u001b[0;32m     51\u001b[0m   ctx\u001b[38;5;241m.\u001b[39mensure_initialized()\n\u001b[1;32m---> 52\u001b[0m   tensors \u001b[38;5;241m=\u001b[39m \u001b[43mpywrap_tfe\u001b[49m\u001b[38;5;241;43m.\u001b[39;49m\u001b[43mTFE_Py_Execute\u001b[49m\u001b[43m(\u001b[49m\u001b[43mctx\u001b[49m\u001b[38;5;241;43m.\u001b[39;49m\u001b[43m_handle\u001b[49m\u001b[43m,\u001b[49m\u001b[43m \u001b[49m\u001b[43mdevice_name\u001b[49m\u001b[43m,\u001b[49m\u001b[43m \u001b[49m\u001b[43mop_name\u001b[49m\u001b[43m,\u001b[49m\n\u001b[0;32m     53\u001b[0m \u001b[43m                                      \u001b[49m\u001b[43minputs\u001b[49m\u001b[43m,\u001b[49m\u001b[43m \u001b[49m\u001b[43mattrs\u001b[49m\u001b[43m,\u001b[49m\u001b[43m \u001b[49m\u001b[43mnum_outputs\u001b[49m\u001b[43m)\u001b[49m\n\u001b[0;32m     54\u001b[0m \u001b[38;5;28;01mexcept\u001b[39;00m core\u001b[38;5;241m.\u001b[39m_NotOkStatusException \u001b[38;5;28;01mas\u001b[39;00m e:\n\u001b[0;32m     55\u001b[0m   \u001b[38;5;28;01mif\u001b[39;00m name \u001b[38;5;129;01mis\u001b[39;00m \u001b[38;5;129;01mnot\u001b[39;00m \u001b[38;5;28;01mNone\u001b[39;00m:\n",
      "\u001b[1;31mKeyboardInterrupt\u001b[0m: "
     ]
    }
   ],
   "source": [
    "while(True):\n",
    "    name_of_stock = NSE50.acell('B4').value\n",
    "    number_of_share = NSE50.acell('B5').value\n",
    "    start_date = NSE50.acell('B6').value\n",
    "    end_date = NSE50.acell('B7').value\n",
    "\n",
    "    stockPredictionModel(name_of_stock, number_of_share, start_date, end_date)\n",
    "    time.sleep(5)\n"
   ]
  }
 ],
 "metadata": {
  "colab": {
   "provenance": []
  },
  "kernelspec": {
   "display_name": "Python 3 (ipykernel)",
   "language": "python",
   "name": "python3"
  },
  "language_info": {
   "codemirror_mode": {
    "name": "ipython",
    "version": 3
   },
   "file_extension": ".py",
   "mimetype": "text/x-python",
   "name": "python",
   "nbconvert_exporter": "python",
   "pygments_lexer": "ipython3",
   "version": "3.9.12"
  }
 },
 "nbformat": 4,
 "nbformat_minor": 5
}
